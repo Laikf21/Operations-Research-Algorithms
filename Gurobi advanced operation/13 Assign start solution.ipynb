{
 "cells": [
  {
   "cell_type": "code",
   "execution_count": 30,
   "id": "67664d6e",
   "metadata": {
    "scrolled": false
   },
   "outputs": [
    {
     "name": "stdout",
     "output_type": "stream",
     "text": [
      "Read MPS format model from file VRPTW_r102_20_5.mps\n",
      "Reading time = 0.01 seconds\n",
      "VRPTW: 1797 rows, 1525 columns, 14416 nonzeros\n",
      "Set parameter PoolSearchMode to value 2\n",
      "Gurobi Optimizer version 9.5.2 build v9.5.2rc0 (win64)\n",
      "Thread count: 8 physical cores, 16 logical processors, using up to 16 threads\n",
      "Optimize a model with 1797 rows, 1525 columns and 14416 nonzeros\n",
      "Model fingerprint: 0xec13157a\n",
      "Variable types: 110 continuous, 1415 integer (1415 binary)\n",
      "Coefficient statistics:\n",
      "  Matrix range     [1e+00, 3e+02]\n",
      "  Objective range  [7e+00, 6e+01]\n",
      "  Bounds range     [1e+00, 2e+02]\n",
      "  RHS range        [1e+00, 3e+02]\n",
      "Presolve added 0 rows and 4 columns\n",
      "Presolve removed 439 rows and 0 columns\n",
      "Presolve time: 0.03s\n",
      "Presolved: 1358 rows, 1529 columns, 18247 nonzeros\n",
      "Variable types: 110 continuous, 1419 integer (1415 binary)\n",
      "\n",
      "Root relaxation: objective 2.871000e+02, 447 iterations, 0.01 seconds (0.01 work units)\n",
      "\n",
      "    Nodes    |    Current Node    |     Objective Bounds      |     Work\n",
      " Expl Unexpl |  Obj  Depth IntInf | Incumbent    BestBd   Gap | It/Node Time\n",
      "\n",
      "     0     0  287.10000    0   37          -  287.10000      -     -    0s\n",
      "     0     0  287.16978    0   55          -  287.16978      -     -    0s\n",
      "     0     0  287.16978    0   55          -  287.16978      -     -    0s\n",
      "     0     0  302.87119    0   95          -  302.87119      -     -    0s\n",
      "     0     0  303.32299    0   97          -  303.32299      -     -    0s\n",
      "     0     0  303.32299    0   97          -  303.32299      -     -    0s\n",
      "     0     0  321.82052    0   93          -  321.82052      -     -    0s\n",
      "     0     0  323.01232    0   92          -  323.01232      -     -    0s\n",
      "     0     0  323.01232    0   94          -  323.01232      -     -    0s\n",
      "     0     0  337.95059    0  111          -  337.95059      -     -    0s\n",
      "     0     0  338.28388    0  109          -  338.28388      -     -    0s\n",
      "     0     0  338.28388    0  115          -  338.28388      -     -    0s\n",
      "     0     0  342.32591    0   99          -  342.32591      -     -    0s\n",
      "     0     0  342.43489    0   89          -  342.43489      -     -    0s\n",
      "     0     0  344.29515    0  103          -  344.29515      -     -    0s\n",
      "     0     0  344.37711    0  119          -  344.37711      -     -    0s\n",
      "     0     0  344.37711    0  119          -  344.37711      -     -    0s\n",
      "H    0     0                     452.8000000  344.37711  23.9%     -    0s\n",
      "     0     0  348.55607    0  134  452.80000  348.55607  23.0%     -    0s\n",
      "     0     0  348.74580    0  121  452.80000  348.74580  23.0%     -    0s\n",
      "     0     0  348.96636    0  126  452.80000  348.96636  22.9%     -    0s\n",
      "     0     0  348.96636    0  126  452.80000  348.96636  22.9%     -    0s\n",
      "     0     0  348.96636    0  136  452.80000  348.96636  22.9%     -    0s\n",
      "     0     0  348.96636    0  136  452.80000  348.96636  22.9%     -    0s\n",
      "     0     0  351.11559    0  129  452.80000  351.11559  22.5%     -    0s\n",
      "     0     0  351.11559    0  129  452.80000  351.11559  22.5%     -    0s\n",
      "     0     0  351.38578    0  130  452.80000  351.38578  22.4%     -    0s\n",
      "     0     0  351.40988    0  129  452.80000  351.40988  22.4%     -    0s\n",
      "     0     0  352.84704    0  131  452.80000  352.84704  22.1%     -    0s\n",
      "     0     0  352.84704    0  131  452.80000  352.84704  22.1%     -    0s\n",
      "     0     0  352.91092    0  135  452.80000  352.91092  22.1%     -    0s\n",
      "     0     0  352.91092    0  135  452.80000  352.91092  22.1%     -    0s\n",
      "     0     0  353.02663    0  147  452.80000  353.02663  22.0%     -    0s\n",
      "     0     0  353.02663    0  143  452.80000  353.02663  22.0%     -    0s\n",
      "     0     2  353.18120    0  143  452.80000  353.18120  22.0%     -    0s\n",
      "H   78    89                     436.0000000  355.42525  18.5%  73.8    0s\n",
      "H  120   121                     432.8000000  355.42525  17.9%  74.9    1s\n",
      "H  570   537                     425.0000000  355.42525  16.4%  61.0    1s\n",
      "H  863   809                     418.2000000  355.42525  15.0%  56.3    1s\n",
      "H 1616   981                     414.3000000  362.39244  12.5%  52.5    4s\n",
      "H 1656   960                     411.7000000  362.39244  12.0%  52.8    4s\n",
      "  1849  1095  399.58150   30   58  411.70000  362.39244  12.0%  53.9    5s\n",
      "  7082  4148  420.13160   53   80  411.70000  373.80041  9.21%  42.8   10s\n",
      " 15323 12214  417.56004   44   65  411.70000  380.28793  7.63%  42.2   15s\n",
      " 28780 17342  408.60246   44   86  411.70000  387.66165  5.84%  43.5   20s\n",
      "*31291 17591              35     411.0000000  389.11826  5.32%  43.9   24s\n",
      " 31403 14349  411.70514   42   47  411.00000  389.15158  5.32%  43.8   25s\n",
      "H34261 15334                     409.7000000  391.14547  4.53%  44.6   26s\n",
      " 41075 17958     cutoff   60       409.70000  396.15192  3.31%  47.4   30s\n",
      " 50209 15844  413.10423   45   82  409.70000  403.32523  1.56%  49.6   35s\n",
      "\n",
      "Optimal solution found at node 58542 - now completing solution pool...\n",
      "\n",
      "    Nodes    |    Current Node    |      Pool Obj. Bounds     |     Work\n",
      "             |                    |   Worst                   |\n",
      " Expl Unexpl |  Obj  Depth IntInf | Incumbent    BestBd   Gap | It/Node Time\n",
      "\n",
      " 58542  5988     cutoff   51       414.40000  410.07172  1.04%  48.5   38s\n",
      "\n",
      "Cutting planes:\n",
      "  Gomory: 6\n",
      "  Cover: 96\n",
      "  Implied bound: 55\n",
      "  Projected implied bound: 2\n",
      "  Clique: 7\n",
      "  MIR: 39\n",
      "  StrongCG: 11\n",
      "  Flow cover: 60\n",
      "  GUB cover: 1\n",
      "  Zero half: 10\n",
      "  Mod-K: 2\n",
      "  RLT: 118\n",
      "  Relax-and-lift: 6\n",
      "\n",
      "Explored 66123 nodes (2934984 simplex iterations) in 39.54 seconds (65.96 work units)\n",
      "Thread count was 16 (of 16 available processors)\n",
      "\n",
      "Solution count 10: 409.7 409.7 411 ... 414.3\n",
      "No other solutions better than 414.3\n",
      "\n",
      "Optimal solution found (tolerance 1.00e-04)\n",
      "Best objective 4.097000000000e+02, best bound 4.097000000000e+02, gap 0.0000%\n"
     ]
    }
   ],
   "source": [
    "from gurobipy import *\n",
    "model1 = read(\"VRPTW_r102_20_5.mps\")\n",
    "model1.Params.PoolSearchMode = 2\n",
    "model1.Params.PoolSolutions = 10\n",
    "model1.optimize()"
   ]
  },
  {
   "cell_type": "code",
   "execution_count": 39,
   "id": "3822404e",
   "metadata": {},
   "outputs": [
    {
     "name": "stdout",
     "output_type": "stream",
     "text": [
      "412.3\n"
     ]
    }
   ],
   "source": [
    "model1.Params.SolutionNumber = 4\n",
    "print(model1.PoolObjVal)\n",
    "temp = model1.Xn"
   ]
  },
  {
   "cell_type": "code",
   "execution_count": 32,
   "id": "002e51a4",
   "metadata": {},
   "outputs": [
    {
     "name": "stdout",
     "output_type": "stream",
     "text": [
      "Read MPS format model from file VRPTW_r102_20_5.mps\n",
      "Reading time = 0.01 seconds\n",
      "VRPTW: 1797 rows, 1525 columns, 14416 nonzeros\n"
     ]
    }
   ],
   "source": [
    "model2 = read(\"VRPTW_r102_20_5.mps\")"
   ]
  },
  {
   "cell_type": "code",
   "execution_count": 36,
   "id": "87529ee5",
   "metadata": {},
   "outputs": [
    {
     "data": {
      "text/plain": [
       "1"
      ]
     },
     "execution_count": 36,
     "metadata": {},
     "output_type": "execute_result"
    }
   ],
   "source": [
    "index = 0\n",
    "for v in model2.getVars():\n",
    "    v.Start = temp[index]\n",
    "    index += 1\n",
    "model2.update()\n",
    "model2.NumStart"
   ]
  },
  {
   "cell_type": "code",
   "execution_count": 37,
   "id": "fbb3ac1e",
   "metadata": {},
   "outputs": [
    {
     "name": "stdout",
     "output_type": "stream",
     "text": [
      "Gurobi Optimizer version 9.5.2 build v9.5.2rc0 (win64)\n",
      "Thread count: 8 physical cores, 16 logical processors, using up to 16 threads\n",
      "Optimize a model with 1797 rows, 1525 columns and 14416 nonzeros\n",
      "Model fingerprint: 0x858a5a64\n",
      "Variable types: 110 continuous, 1415 integer (1415 binary)\n",
      "Coefficient statistics:\n",
      "  Matrix range     [1e+00, 3e+02]\n",
      "  Objective range  [7e+00, 6e+01]\n",
      "  Bounds range     [1e+00, 2e+02]\n",
      "  RHS range        [1e+00, 3e+02]\n",
      "\n",
      "Loaded user MIP start with objective 412.3\n",
      "\n",
      "Presolve removed 614 rows and 6 columns\n",
      "Presolve time: 0.04s\n",
      "Presolved: 1183 rows, 1519 columns, 16789 nonzeros\n",
      "Variable types: 100 continuous, 1419 integer (1415 binary)\n",
      "\n",
      "Root relaxation: objective 2.871000e+02, 360 iterations, 0.01 seconds (0.01 work units)\n",
      "\n",
      "    Nodes    |    Current Node    |     Objective Bounds      |     Work\n",
      " Expl Unexpl |  Obj  Depth IntInf | Incumbent    BestBd   Gap | It/Node Time\n",
      "\n",
      "     0     0  287.10000    0   42  412.30000  287.10000  30.4%     -    0s\n",
      "H    0     0                     409.7000000  287.10000  29.9%     -    0s\n",
      "     0     0  287.10000    0   40  409.70000  287.10000  29.9%     -    0s\n",
      "     0     0  287.10000    0   52  409.70000  287.10000  29.9%     -    0s\n",
      "     0     0  314.77016    0   68  409.70000  314.77016  23.2%     -    0s\n",
      "     0     0  317.00000    0   61  409.70000  317.00000  22.6%     -    0s\n",
      "     0     0  326.08018    0  104  409.70000  326.08018  20.4%     -    0s\n",
      "     0     0  326.19911    0  101  409.70000  326.19911  20.4%     -    0s\n",
      "     0     0  326.31556    0  102  409.70000  326.31556  20.4%     -    0s\n",
      "     0     0  339.88244    0  111  409.70000  339.88244  17.0%     -    0s\n",
      "     0     0  339.90563    0  111  409.70000  339.90563  17.0%     -    0s\n",
      "     0     0  339.90563    0  111  409.70000  339.90563  17.0%     -    0s\n",
      "     0     0  353.52124    0  118  409.70000  353.52124  13.7%     -    0s\n",
      "     0     0  353.52124    0  116  409.70000  353.52124  13.7%     -    0s\n",
      "     0     0  354.05000    0   80  409.70000  354.05000  13.6%     -    0s\n",
      "     0     0  354.05000    0   80  409.70000  354.05000  13.6%     -    0s\n",
      "     0     0  354.70709    0  126  409.70000  354.70709  13.4%     -    0s\n",
      "     0     0  354.83440    0  112  409.70000  354.83440  13.4%     -    0s\n",
      "     0     0  354.83440    0  112  409.70000  354.83440  13.4%     -    0s\n",
      "     0     0  355.46544    0  128  409.70000  355.46544  13.2%     -    0s\n",
      "     0     0  355.47312    0  133  409.70000  355.47312  13.2%     -    0s\n",
      "     0     0  355.52303    0  124  409.70000  355.52303  13.2%     -    0s\n",
      "     0     0  355.52303    0  124  409.70000  355.52303  13.2%     -    0s\n",
      "     0     0  355.52303    0  124  409.70000  355.52303  13.2%     -    0s\n",
      "     0     0  355.52303    0  124  409.70000  355.52303  13.2%     -    0s\n",
      "     0     2  355.66869    0  124  409.70000  355.66869  13.2%     -    0s\n",
      "  1593  1067  366.79629   16  115  409.70000  366.79629  10.5%  41.6    5s\n",
      " 12339  2570  396.62994   64   72  409.70000  395.84444  3.38%  41.7   10s\n",
      "\n",
      "Cutting planes:\n",
      "  Gomory: 16\n",
      "  Cover: 56\n",
      "  Implied bound: 33\n",
      "  Projected implied bound: 1\n",
      "  Clique: 9\n",
      "  MIR: 26\n",
      "  StrongCG: 6\n",
      "  Flow cover: 55\n",
      "  Inf proof: 3\n",
      "  Zero half: 15\n",
      "  Mod-K: 2\n",
      "  RLT: 114\n",
      "  Relax-and-lift: 2\n",
      "\n",
      "Explored 19051 nodes (728631 simplex iterations) in 12.68 seconds (16.25 work units)\n",
      "Thread count was 16 (of 16 available processors)\n",
      "\n",
      "Solution count 2: 409.7 412.3 \n",
      "\n",
      "Optimal solution found (tolerance 1.00e-04)\n",
      "Best objective 4.097000000000e+02, best bound 4.097000000000e+02, gap 0.0000%\n"
     ]
    }
   ],
   "source": [
    "model2.optimize()"
   ]
  },
  {
   "cell_type": "code",
   "execution_count": 45,
   "id": "5e5813e0",
   "metadata": {},
   "outputs": [
    {
     "name": "stdout",
     "output_type": "stream",
     "text": [
      "409.7\n",
      "411.70000000000005\n",
      "413.0\n",
      "414.3\n"
     ]
    }
   ],
   "source": [
    "model1.Params.SolutionNumber = 0\n",
    "sv1 = model1.Xn\n",
    "print(model1.PoolObjVal)\n",
    "\n",
    "model1.Params.SolutionNumber = 3\n",
    "sv2 = model1.Xn\n",
    "print(model1.PoolObjVal)\n",
    "    \n",
    "model1.Params.SolutionNumber = 6\n",
    "sv3 = model1.Xn\n",
    "print(model1.PoolObjVal)\n",
    "\n",
    "model1.Params.SolutionNumber = 9\n",
    "sv4 = model1.Xn\n",
    "print(model1.PoolObjVal)"
   ]
  },
  {
   "cell_type": "code",
   "execution_count": 47,
   "id": "ada09a14",
   "metadata": {
    "run_control": {
     "marked": false
    }
   },
   "outputs": [
    {
     "name": "stdout",
     "output_type": "stream",
     "text": [
      "Read MPS format model from file VRPTW_r102_20_5.mps\n",
      "Reading time = 0.01 seconds\n",
      "VRPTW: 1797 rows, 1525 columns, 14416 nonzeros\n",
      "4\n"
     ]
    }
   ],
   "source": [
    "model2 = read(\"VRPTW_r102_20_5.mps\")\n",
    "\n",
    "model2.NumStart = 4\n",
    "\n",
    "for s in range(model2.NumStart):\n",
    "    model2.Params.StartNumber = s\n",
    "    if(s == 0):\n",
    "        index = 0\n",
    "        for v in model2.getVars():\n",
    "            v.Start = sv1[index]\n",
    "            index += 1\n",
    "    elif(s == 1):\n",
    "        index = 0\n",
    "        for v in model2.getVars():\n",
    "            v.Start = sv2[index]\n",
    "            index += 1\n",
    "    elif(s == 2):\n",
    "        index = 0\n",
    "        for v in model2.getVars():\n",
    "            v.Start = sv3[index]\n",
    "            index += 1\n",
    "    elif(s == 3):\n",
    "        index = 0\n",
    "        for v in model2.getVars():\n",
    "            v.Start = sv4[index]\n",
    "            index += 1\n",
    "model2.update()\n",
    "print(model2.NumStart)"
   ]
  },
  {
   "cell_type": "code",
   "execution_count": 48,
   "id": "801e4322",
   "metadata": {},
   "outputs": [
    {
     "name": "stdout",
     "output_type": "stream",
     "text": [
      "Gurobi Optimizer version 9.5.2 build v9.5.2rc0 (win64)\n",
      "Thread count: 8 physical cores, 16 logical processors, using up to 16 threads\n",
      "Optimize a model with 1797 rows, 1525 columns and 14416 nonzeros\n",
      "Model fingerprint: 0x52c90534\n",
      "Variable types: 110 continuous, 1415 integer (1415 binary)\n",
      "Coefficient statistics:\n",
      "  Matrix range     [1e+00, 3e+02]\n",
      "  Objective range  [7e+00, 6e+01]\n",
      "  Bounds range     [1e+00, 2e+02]\n",
      "  RHS range        [1e+00, 3e+02]\n",
      "\n",
      "No start values specified in MIP start\n",
      "No start values specified in MIP start\n",
      "No start values specified in MIP start\n",
      "No start values specified in MIP start\n",
      "\n",
      "Presolve removed 614 rows and 6 columns\n",
      "Presolve time: 0.03s\n",
      "Presolved: 1183 rows, 1519 columns, 16789 nonzeros\n",
      "Variable types: 100 continuous, 1419 integer (1415 binary)\n",
      "\n",
      "Root relaxation: objective 2.871000e+02, 360 iterations, 0.01 seconds (0.01 work units)\n",
      "Another try with MIP start\n",
      "\n",
      "    Nodes    |    Current Node    |     Objective Bounds      |     Work\n",
      " Expl Unexpl |  Obj  Depth IntInf | Incumbent    BestBd   Gap | It/Node Time\n",
      "\n",
      "     0     0  287.10000    0   42          -  287.10000      -     -    0s\n",
      "     0     0  287.10000    0   50          -  287.10000      -     -    0s\n",
      "     0     0  287.10000    0   54          -  287.10000      -     -    0s\n",
      "     0     0  320.90000    0   47          -  320.90000      -     -    0s\n",
      "     0     0  320.90000    0   43          -  320.90000      -     -    0s\n",
      "     0     0  324.96473    0  113          -  324.96473      -     -    0s\n",
      "     0     0  325.65634    0   93          -  325.65634      -     -    0s\n",
      "     0     0  326.28095    0   92          -  326.28095      -     -    0s\n",
      "     0     0  326.28095    0   92          -  326.28095      -     -    0s\n",
      "     0     0  335.75703    0   75          -  335.75703      -     -    0s\n",
      "     0     0  335.75703    0   80          -  335.75703      -     -    0s\n",
      "     0     0  339.98813    0  113          -  339.98813      -     -    0s\n",
      "     0     0  341.17667    0  106          -  341.17667      -     -    0s\n",
      "     0     0  353.90000    0   77          -  353.90000      -     -    0s\n",
      "     0     0  356.76088    0  128          -  356.76088      -     -    0s\n",
      "     0     0  356.76088    0  129          -  356.76088      -     -    0s\n",
      "     0     0  357.19003    0  125          -  357.19003      -     -    0s\n",
      "     0     0  357.20126    0  125          -  357.20126      -     -    0s\n",
      "     0     0  357.20163    0  124          -  357.20163      -     -    0s\n",
      "     0     0  357.20176    0  129          -  357.20176      -     -    0s\n",
      "     0     0  357.20176    0  122          -  357.20176      -     -    0s\n",
      "     0     2  357.20208    0  122          -  357.20208      -     -    0s\n",
      "* 1374  1229              76     536.1000000  359.73478  32.9%  48.7    1s\n",
      "H 1448  1229                     532.9000000  359.73478  32.5%  48.3    1s\n",
      "H 1450  1169                     523.6000000  359.73478  31.3%  48.2    1s\n",
      "H 1467  1121                     510.7000000  359.73478  29.6%  47.7    2s\n",
      "H 1467  1064                     484.2000000  359.73478  25.7%  47.7    2s\n",
      "H 1512  1053                     478.2000000  361.94266  24.3%  50.3    4s\n",
      "H 1522   998                     465.0000000  361.94266  22.2%  50.2    4s\n",
      "  1559  1032  361.94266   16  104  465.00000  361.94266  22.2%  50.4    5s\n",
      "H 1560   983                     449.8000000  361.94266  19.5%  50.3    5s\n",
      "H 1562   936                     431.5000000  361.94266  16.1%  50.5    5s\n",
      "* 2371  1052              52     427.1000000  362.20524  15.2%  46.0    6s\n",
      "* 6519  2345              61     422.3000000  365.93579  13.3%  42.0    8s\n",
      "* 7455  2252              50     419.0000000  382.44096  8.73%  41.7    8s\n",
      "* 7467  1320              60     409.7000000  382.44096  6.65%  41.7    8s\n",
      "\n",
      "Cutting planes:\n",
      "  Gomory: 12\n",
      "  Cover: 22\n",
      "  Implied bound: 18\n",
      "  Projected implied bound: 1\n",
      "  Clique: 5\n",
      "  MIR: 17\n",
      "  StrongCG: 15\n",
      "  Flow cover: 37\n",
      "  Zero half: 5\n",
      "  Mod-K: 1\n",
      "  RLT: 96\n",
      "  Relax-and-lift: 9\n",
      "\n",
      "Explored 10280 nodes (412703 simplex iterations) in 9.67 seconds (12.81 work units)\n",
      "Thread count was 16 (of 16 available processors)\n",
      "\n",
      "Solution count 10: 409.7 419 422.3 ... 510.7\n",
      "\n",
      "Optimal solution found (tolerance 1.00e-04)\n",
      "Best objective 4.097000000000e+02, best bound 4.097000000000e+02, gap 0.0000%\n"
     ]
    }
   ],
   "source": [
    "model2.optimize()"
   ]
  }
 ],
 "metadata": {
  "kernelspec": {
   "display_name": "Python 3",
   "language": "python",
   "name": "python3"
  },
  "language_info": {
   "codemirror_mode": {
    "name": "ipython",
    "version": 3
   },
   "file_extension": ".py",
   "mimetype": "text/x-python",
   "name": "python",
   "nbconvert_exporter": "python",
   "pygments_lexer": "ipython3",
   "version": "3.8.8"
  }
 },
 "nbformat": 4,
 "nbformat_minor": 5
}
