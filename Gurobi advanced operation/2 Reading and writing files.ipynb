{
 "cells": [
  {
   "cell_type": "markdown",
   "metadata": {},
   "source": [
    "# 先求解一次模型"
   ]
  },
  {
   "cell_type": "code",
   "execution_count": 29,
   "metadata": {},
   "outputs": [
    {
     "name": "stdout",
     "output_type": "stream",
     "text": [
      "Gurobi Optimizer version 9.5.2 build v9.5.2rc0 (win64)\n",
      "Thread count: 8 physical cores, 16 logical processors, using up to 16 threads\n",
      "Optimize a model with 3 rows, 6 columns and 18 nonzeros\n",
      "Model fingerprint: 0x3ead4e64\n",
      "Coefficient statistics:\n",
      "  Matrix range     [9e+00, 6e+01]\n",
      "  Objective range  [6e+00, 1e+01]\n",
      "  Bounds range     [1e+00, 1e+00]\n",
      "  RHS range        [6e+01, 2e+02]\n",
      "Presolve time: 0.00s\n",
      "Presolved: 3 rows, 6 columns, 18 nonzeros\n",
      "\n",
      "Iteration    Objective       Primal Inf.    Dual Inf.      Time\n",
      "       0    0.0000000e+00   4.187500e+01   0.000000e+00      0s\n",
      "       4    3.2154631e+01   0.000000e+00   0.000000e+00      0s\n",
      "\n",
      "Solved in 4 iterations and 0.00 seconds (0.00 work units)\n",
      "Optimal objective  3.215463133e+01\n",
      "The objective value is 32.154631330359486\n",
      "x_0 = 1.0\n",
      "x_1 = 0.6226974547362896\n",
      "x_2 = 0.34347940173182906\n",
      "x_3 = 1.0\n",
      "x_4 = 0.04757281553398046\n",
      "x_5 = 1.0\n"
     ]
    }
   ],
   "source": [
    "from gurobipy import *\n",
    "\n",
    "varNum = 6  # 决策变量个数\n",
    "consNum = 3  # 模型约束个数\n",
    "\n",
    "# 步骤1，创建模型对象\n",
    "model = Model('Nori&Leets_Problem')\n",
    "\n",
    "# 步骤2，创建决策变量\n",
    "x = [[] for i in range(varNum)]\n",
    "\n",
    "for i in range(varNum):\n",
    "    x[i] = model.addVar(lb=0, ub=1, vtype=GRB.CONTINUOUS,\n",
    "                        name='x_'+str(i))  # 决策变量\n",
    "\n",
    "# 步骤3，创建目标函数\n",
    "model.setObjective(8 * x[0] + 10 * x[1] + 7 * x[2] +\n",
    "                   6 * x[3] + 11 * x[4] + 9 * x[5], sense=GRB.MINIMIZE)\n",
    "\n",
    "# 步骤4，创建模型约束\n",
    "cons = [[] for i in range(consNum)]\n",
    "cons[0] = model.addConstr(12*x[0] + 9*x[1] + 25*x[2] + 20 *\n",
    "                          x[3] + 17*x[4] + 13*x[5] >= 60,  name='Constraint_1')  # 约束1\n",
    "cons[1] = model.addConstr(35*x[0] + 42*x[1] + 18*x[2] + 31 *\n",
    "                          x[3] + 56*x[4] + 49*x[5] >= 150, name='Constraint_2')  # 约束2\n",
    "cons[2] = model.addConstr(37*x[0] + 53*x[1] + 28*x[2] + 24 *\n",
    "                          x[3] + 29*x[4] + 20*x[5] >= 125, name='Constraint_3')  # 约束3\n",
    "\n",
    "# 步骤5，求解模型\n",
    "model.write('Nori&Leets_Problem.lp')  # 创建模型文件\n",
    "model.optimize()\n",
    "\n",
    "# 步骤6，输出求解信息\n",
    "print('The objective value is {}'.format(model.ObjVal))\n",
    "for v in model.getVars():\n",
    "    print('{} = {}'.format(v.varName, v.X))"
   ]
  },
  {
   "cell_type": "markdown",
   "metadata": {},
   "source": [
    "# 将模型导出为dua文件，再次导入求解"
   ]
  },
  {
   "cell_type": "code",
   "execution_count": 30,
   "metadata": {},
   "outputs": [
    {
     "name": "stdout",
     "output_type": "stream",
     "text": [
      "Read MPS format model from file Nori&Leets_Problem.dua\n",
      "Reading time = 0.00 seconds\n",
      "(null): 6 rows, 9 columns, 24 nonzeros\n",
      "Gurobi Optimizer version 9.5.2 build v9.5.2rc0 (win64)\n",
      "Thread count: 8 physical cores, 16 logical processors, using up to 16 threads\n",
      "Optimize a model with 6 rows, 9 columns and 24 nonzeros\n",
      "Model fingerprint: 0x8767ee2a\n",
      "Coefficient statistics:\n",
      "  Matrix range     [1e+00, 6e+01]\n",
      "  Objective range  [1e+00, 2e+02]\n",
      "  Bounds range     [0e+00, 0e+00]\n",
      "  RHS range        [6e+00, 1e+01]\n",
      "Presolve time: 0.00s\n",
      "Presolved: 6 rows, 9 columns, 24 nonzeros\n",
      "\n",
      "Iteration    Objective       Primal Inf.    Dual Inf.      Time\n",
      "       0    4.9375000e+31   9.593750e+30   4.937500e+01      0s\n",
      "      10    3.2154631e+01   0.000000e+00   0.000000e+00      0s\n",
      "\n",
      "Solved in 10 iterations and 0.00 seconds (0.00 work units)\n",
      "Optimal objective  3.215463133e+01\n",
      "\n",
      "------------ Print Solution --------------\n",
      "The objective value is 32.154631330359486\n",
      "C0(6) = 0.11104696929939646\n",
      "C1(6) = 0.12681710837050644\n",
      "C2(6) = 0.06932563631592757\n",
      "C3(1) = 0.3362109682498029\n",
      "C4(1) = 0.0\n",
      "C5(1) = 0.0\n",
      "C6(1) = 1.816085017055891\n",
      "C7(1) = 0.0\n",
      "C8(1) = 0.04416163736552181\n"
     ]
    }
   ],
   "source": [
    "# 将模型导出至dua格式文件中\n",
    "model.write('Nori&Leets_Problem.dua')\n",
    "\n",
    "# 为对偶模型重新定义模型对象\n",
    "model = Model('Dual_Model')\n",
    "\n",
    "# 重新导入dua格式文件\n",
    "model = read('Nori&Leets_Problem.dua')\n",
    "\n",
    "# 求解重新导入后的模型\n",
    "model.optimize()\n",
    "\n",
    "# 打印模型结果，可以看到直接获得了原问题的对偶解\n",
    "print('\\n------------ Print Solution --------------')\n",
    "print('The objective value is {}'.format(model.ObjVal))\n",
    "for v in model.getVars():\n",
    "    print('{} = {}'.format(v.varName, v.X))"
   ]
  }
 ],
 "metadata": {
  "kernelspec": {
   "display_name": "Python 3.10.6 ('osmnx')",
   "language": "python",
   "name": "python3"
  },
  "language_info": {
   "codemirror_mode": {
    "name": "ipython",
    "version": 3
   },
   "file_extension": ".py",
   "mimetype": "text/x-python",
   "name": "python",
   "nbconvert_exporter": "python",
   "pygments_lexer": "ipython3",
   "version": "3.10.6"
  },
  "orig_nbformat": 4,
  "vscode": {
   "interpreter": {
    "hash": "b144d0c3fc360fc6ad603886c86aee4c155322223366cbd5a9c8347ee17bc42a"
   }
  }
 },
 "nbformat": 4,
 "nbformat_minor": 2
}
