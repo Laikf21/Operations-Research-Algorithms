{
 "cells": [
  {
   "cell_type": "markdown",
   "metadata": {},
   "source": [
    "### 1 输出预处理之前的模型统计信息"
   ]
  },
  {
   "cell_type": "code",
   "execution_count": 1,
   "metadata": {},
   "outputs": [
    {
     "name": "stdout",
     "output_type": "stream",
     "text": [
      "Read MPS format model from file VRPTW_r102_20_5.mps\n",
      "Reading time = 0.01 seconds\n",
      "VRPTW: 1797 rows, 1525 columns, 14416 nonzeros\n",
      "\n",
      "Statistics for modelVRPTW:\n",
      "  Linear constraint matrix    : 1797 Constrs, 1525 Vars, 14416 NZs\n",
      "  Variable types              : 110 Continuous,\n",
      "1415 Integer (1415 Binary)\n",
      "  Matrix coefficient range    : [ 1, 263.5 ]\n",
      "  Objective coefficient range : [ 7.1, 64 ]\n",
      "  Variable bound range        : [ 1, 230 ]\n",
      "  RHS coefficient range       : [ 1, 263.5 ]\n"
     ]
    }
   ],
   "source": [
    "from gurobipy import *\n",
    "\n",
    "model = read(\"VRPTW_r102_20_5.mps\")\n",
    "\n",
    "model.printStats()"
   ]
  },
  {
   "cell_type": "markdown",
   "metadata": {},
   "source": [
    "### 2 输出预处理后的模型统计信息"
   ]
  },
  {
   "cell_type": "code",
   "execution_count": 2,
   "metadata": {},
   "outputs": [
    {
     "name": "stdout",
     "output_type": "stream",
     "text": [
      "\n",
      "----------------- 执行预处理操作 -----------------\n",
      "\n",
      "Set parameter Presolve to value 2\n",
      "Presolve removed 614 rows and 6 columns\n",
      "Presolve time: 0.10s\n",
      "\n",
      "Statistics for modelVRPTW_pre:\n",
      "  Linear constraint matrix    : 1183 Constrs, 1519 Vars, 17138 NZs\n",
      "  Variable types              : 100 Continuous,\n",
      "1419 Integer (1415 Binary)\n",
      "  Matrix coefficient range    : [ 1, 241.7 ]\n",
      "  Objective coefficient range : [ 7.1, 64 ]\n",
      "  Variable bound range        : [ 1, 205 ]\n",
      "  RHS coefficient range       : [ 1, 205 ]\n"
     ]
    }
   ],
   "source": [
    "print('\\n----------------- 执行预处理操作 -----------------\\n')\n",
    "\n",
    "model.Params.Presolve = 2\n",
    "\n",
    "p = model.presolve()\n",
    "\n",
    "p.printStats()"
   ]
  }
 ],
 "metadata": {
  "kernelspec": {
   "display_name": "Python 3.10.6 ('osmnx')",
   "language": "python",
   "name": "python3"
  },
  "language_info": {
   "codemirror_mode": {
    "name": "ipython",
    "version": 3
   },
   "file_extension": ".py",
   "mimetype": "text/x-python",
   "name": "python",
   "nbconvert_exporter": "python",
   "pygments_lexer": "ipython3",
   "version": "3.10.6"
  },
  "orig_nbformat": 4,
  "vscode": {
   "interpreter": {
    "hash": "b144d0c3fc360fc6ad603886c86aee4c155322223366cbd5a9c8347ee17bc42a"
   }
  }
 },
 "nbformat": 4,
 "nbformat_minor": 2
}
