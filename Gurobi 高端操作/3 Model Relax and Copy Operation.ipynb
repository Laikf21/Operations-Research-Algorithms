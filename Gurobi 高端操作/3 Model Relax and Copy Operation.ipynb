{
 "cells": [
  {
   "cell_type": "markdown",
   "metadata": {},
   "source": [
    "# 模型浅拷贝"
   ]
  },
  {
   "cell_type": "code",
   "execution_count": 29,
   "metadata": {},
   "outputs": [
    {
     "name": "stdout",
     "output_type": "stream",
     "text": [
      "Read MPS format model from file Nori&Leets_Problem.mps\n",
      "Reading time = 0.00 seconds\n",
      "Nori&Leets_Problem: 3 rows, 6 columns, 18 nonzeros\n",
      "Gurobi Optimizer version 9.5.2 build v9.5.2rc0 (win64)\n",
      "Thread count: 8 physical cores, 16 logical processors, using up to 16 threads\n",
      "Optimize a model with 3 rows, 6 columns and 18 nonzeros\n",
      "Model fingerprint: 0x3ead4e64\n",
      "Coefficient statistics:\n",
      "  Matrix range     [9e+00, 6e+01]\n",
      "  Objective range  [6e+00, 1e+01]\n",
      "  Bounds range     [1e+00, 1e+00]\n",
      "  RHS range        [6e+01, 2e+02]\n",
      "Presolve time: 0.02s\n",
      "Presolved: 3 rows, 6 columns, 18 nonzeros\n",
      "\n",
      "Iteration    Objective       Primal Inf.    Dual Inf.      Time\n",
      "       0    0.0000000e+00   4.187500e+01   0.000000e+00      0s\n",
      "       4    3.2154631e+01   0.000000e+00   0.000000e+00      0s\n",
      "\n",
      "Solved in 4 iterations and 0.03 seconds (0.00 work units)\n",
      "Optimal objective  3.215463133e+01\n"
     ]
    }
   ],
   "source": [
    "from gurobipy import *\n",
    "\n",
    "model1 = read('Nori&Leets_Problem.mps')\n",
    "\n",
    "model1.optimize()"
   ]
  },
  {
   "cell_type": "code",
   "execution_count": 30,
   "metadata": {},
   "outputs": [
    {
     "name": "stdout",
     "output_type": "stream",
     "text": [
      "Discarded solution information\n",
      "Gurobi Optimizer version 9.5.2 build v9.5.2rc0 (win64)\n",
      "Thread count: 8 physical cores, 16 logical processors, using up to 16 threads\n",
      "Optimize a model with 2 rows, 6 columns and 12 nonzeros\n",
      "Model fingerprint: 0xc3f2473f\n",
      "Coefficient statistics:\n",
      "  Matrix range     [2e+01, 6e+01]\n",
      "  Objective range  [6e+00, 1e+01]\n",
      "  Bounds range     [1e+00, 1e+00]\n",
      "  RHS range        [1e+02, 2e+02]\n",
      "Presolve time: 0.00s\n",
      "Presolved: 2 rows, 6 columns, 12 nonzeros\n",
      "\n",
      "Iteration    Objective       Primal Inf.    Dual Inf.      Time\n",
      "       0    0.0000000e+00   3.437500e+01   0.000000e+00      0s\n",
      "       2    3.1304636e+01   0.000000e+00   0.000000e+00      0s\n",
      "\n",
      "Solved in 2 iterations and 0.01 seconds (0.00 work units)\n",
      "Optimal objective  3.130463576e+01\n"
     ]
    }
   ],
   "source": [
    "model1.reset()\n",
    "model2 = model1\n",
    "model2.remove(model2.getConstrs()[0])\n",
    "model2.optimize()"
   ]
  },
  {
   "cell_type": "code",
   "execution_count": 24,
   "metadata": {},
   "outputs": [
    {
     "name": "stdout",
     "output_type": "stream",
     "text": [
      "Discarded solution information\n",
      "Gurobi Optimizer version 9.5.2 build v9.5.2rc0 (win64)\n",
      "Thread count: 8 physical cores, 16 logical processors, using up to 16 threads\n",
      "Optimize a model with 2 rows, 6 columns and 12 nonzeros\n",
      "Model fingerprint: 0xc3f2473f\n",
      "Coefficient statistics:\n",
      "  Matrix range     [2e+01, 6e+01]\n",
      "  Objective range  [6e+00, 1e+01]\n",
      "  Bounds range     [1e+00, 1e+00]\n",
      "  RHS range        [1e+02, 2e+02]\n",
      "Presolve time: 0.00s\n",
      "Presolved: 2 rows, 6 columns, 12 nonzeros\n",
      "\n",
      "Iteration    Objective       Primal Inf.    Dual Inf.      Time\n",
      "       0    0.0000000e+00   3.437500e+01   0.000000e+00      0s\n",
      "       2    3.1304636e+01   0.000000e+00   0.000000e+00      0s\n",
      "\n",
      "Solved in 2 iterations and 0.01 seconds (0.00 work units)\n",
      "Optimal objective  3.130463576e+01\n"
     ]
    }
   ],
   "source": [
    "model1.reset()\n",
    "model1.optimize()"
   ]
  },
  {
   "cell_type": "markdown",
   "metadata": {},
   "source": [
    "# 模型深拷贝"
   ]
  },
  {
   "cell_type": "code",
   "execution_count": 26,
   "metadata": {},
   "outputs": [
    {
     "name": "stdout",
     "output_type": "stream",
     "text": [
      "Read MPS format model from file Nori&Leets_Problem.mps\n",
      "Reading time = 0.00 seconds\n",
      "Nori&Leets_Problem: 3 rows, 6 columns, 18 nonzeros\n",
      "Gurobi Optimizer version 9.5.2 build v9.5.2rc0 (win64)\n",
      "Thread count: 8 physical cores, 16 logical processors, using up to 16 threads\n",
      "Optimize a model with 3 rows, 6 columns and 18 nonzeros\n",
      "Model fingerprint: 0x3ead4e64\n",
      "Coefficient statistics:\n",
      "  Matrix range     [9e+00, 6e+01]\n",
      "  Objective range  [6e+00, 1e+01]\n",
      "  Bounds range     [1e+00, 1e+00]\n",
      "  RHS range        [6e+01, 2e+02]\n",
      "Presolve time: 0.00s\n",
      "Presolved: 3 rows, 6 columns, 18 nonzeros\n",
      "\n",
      "Iteration    Objective       Primal Inf.    Dual Inf.      Time\n",
      "       0    0.0000000e+00   4.187500e+01   0.000000e+00      0s\n",
      "       4    3.2154631e+01   0.000000e+00   0.000000e+00      0s\n",
      "\n",
      "Solved in 4 iterations and 0.01 seconds (0.00 work units)\n",
      "Optimal objective  3.215463133e+01\n"
     ]
    }
   ],
   "source": [
    "from gurobipy import *\n",
    "\n",
    "model1 = read('Nori&Leets_Problem.mps')\n",
    "\n",
    "model1.optimize()"
   ]
  },
  {
   "cell_type": "code",
   "execution_count": 27,
   "metadata": {},
   "outputs": [
    {
     "name": "stdout",
     "output_type": "stream",
     "text": [
      "Discarded solution information\n",
      "Gurobi Optimizer version 9.5.2 build v9.5.2rc0 (win64)\n",
      "Thread count: 8 physical cores, 16 logical processors, using up to 16 threads\n",
      "Optimize a model with 3 rows, 6 columns and 18 nonzeros\n",
      "Model fingerprint: 0x3ead4e64\n",
      "Coefficient statistics:\n",
      "  Matrix range     [9e+00, 6e+01]\n",
      "  Objective range  [6e+00, 1e+01]\n",
      "  Bounds range     [1e+00, 1e+00]\n",
      "  RHS range        [6e+01, 2e+02]\n",
      "Presolve time: 0.00s\n",
      "Presolved: 3 rows, 6 columns, 18 nonzeros\n",
      "\n",
      "Iteration    Objective       Primal Inf.    Dual Inf.      Time\n",
      "       0    0.0000000e+00   4.187500e+01   0.000000e+00      0s\n",
      "       4    3.2154631e+01   0.000000e+00   0.000000e+00      0s\n",
      "\n",
      "Solved in 4 iterations and 0.01 seconds (0.00 work units)\n",
      "Optimal objective  3.215463133e+01\n"
     ]
    }
   ],
   "source": [
    "model2 = model1.copy()\n",
    "model2.reset()\n",
    "model2.optimize()"
   ]
  },
  {
   "cell_type": "code",
   "execution_count": 28,
   "metadata": {},
   "outputs": [
    {
     "name": "stdout",
     "output_type": "stream",
     "text": [
      "Discarded solution information\n",
      "Gurobi Optimizer version 9.5.2 build v9.5.2rc0 (win64)\n",
      "Thread count: 8 physical cores, 16 logical processors, using up to 16 threads\n",
      "Optimize a model with 3 rows, 6 columns and 18 nonzeros\n",
      "Model fingerprint: 0x3ead4e64\n",
      "Coefficient statistics:\n",
      "  Matrix range     [9e+00, 6e+01]\n",
      "  Objective range  [6e+00, 1e+01]\n",
      "  Bounds range     [1e+00, 1e+00]\n",
      "  RHS range        [6e+01, 2e+02]\n",
      "Presolve time: 0.00s\n",
      "Presolved: 3 rows, 6 columns, 18 nonzeros\n",
      "\n",
      "Iteration    Objective       Primal Inf.    Dual Inf.      Time\n",
      "       0    0.0000000e+00   4.187500e+01   0.000000e+00      0s\n",
      "       4    3.2154631e+01   0.000000e+00   0.000000e+00      0s\n",
      "\n",
      "Solved in 4 iterations and 0.01 seconds (0.00 work units)\n",
      "Optimal objective  3.215463133e+01\n"
     ]
    }
   ],
   "source": [
    "model1.reset()\n",
    "model1.optimize()"
   ]
  },
  {
   "cell_type": "markdown",
   "metadata": {},
   "source": [
    "# 模型松弛"
   ]
  },
  {
   "cell_type": "code",
   "execution_count": 56,
   "metadata": {},
   "outputs": [
    {
     "name": "stdout",
     "output_type": "stream",
     "text": [
      "Gurobi Optimizer version 9.5.2 build v9.5.2rc0 (win64)\n",
      "Thread count: 8 physical cores, 16 logical processors, using up to 16 threads\n",
      "Optimize a model with 3 rows, 6 columns and 18 nonzeros\n",
      "Model fingerprint: 0xab8eecc0\n",
      "Variable types: 0 continuous, 6 integer (0 binary)\n",
      "Coefficient statistics:\n",
      "  Matrix range     [9e+00, 6e+01]\n",
      "  Objective range  [6e+00, 1e+01]\n",
      "  Bounds range     [1e+00, 1e+00]\n",
      "  RHS range        [6e+01, 2e+02]\n",
      "Found heuristic solution: objective 37.0000000\n",
      "Presolve removed 3 rows and 6 columns\n",
      "Presolve time: 0.00s\n",
      "Presolve: All rows and columns removed\n",
      "\n",
      "Explored 0 nodes (0 simplex iterations) in 0.01 seconds (0.00 work units)\n",
      "Thread count was 1 (of 16 available processors)\n",
      "\n",
      "Solution count 2: 36 37 \n",
      "\n",
      "Optimal solution found (tolerance 1.00e-04)\n",
      "Best objective 3.600000000000e+01, best bound 3.600000000000e+01, gap 0.0000%\n",
      "The objective value is 36.0\n",
      "x_0 = 1.0\n",
      "x_1 = 1.0\n",
      "x_2 = 1.0\n",
      "x_3 = -0.0\n",
      "x_4 = 1.0\n",
      "x_5 = -0.0\n"
     ]
    }
   ],
   "source": [
    "'''p84 Controlling Air Pollution 版本的例子'''\n",
    "\n",
    "varNum = 6  # 决策变量个数\n",
    "consNum = 3  # 模型约束个数\n",
    "\n",
    "# 步骤1，创建模型对象\n",
    "model = Model('Nori&Leets_Problem')\n",
    "\n",
    "# 步骤2，创建决策变量\n",
    "x = [[] for i in range(varNum)]\n",
    "\n",
    "for i in range(varNum):\n",
    "    x[i] = model.addVar(lb=0, ub=1, vtype=GRB.INTEGER,\n",
    "                        name='x_'+str(i))  # 决策变量\n",
    "\n",
    "# for i in range(varNum):\n",
    "#     x[i] = model.addVar(lb=0, ub=1, vtype=GRB.CONTINUOUS,\n",
    "#                         name='x_'+str(i))  # 决策变量\n",
    "\n",
    "# 步骤3，创建目标函数\n",
    "model.setObjective(8 * x[0] + 10 * x[1] + 7 * x[2] +\n",
    "                   6 * x[3] + 11 * x[4] + 9 * x[5], sense=GRB.MINIMIZE)\n",
    "\n",
    "# 步骤4，创建模型约束\n",
    "cons = [[] for i in range(consNum)]\n",
    "cons[0] = model.addConstr(12*x[0] + 9*x[1] + 25*x[2] + 20 *\n",
    "                          x[3] + 17*x[4] + 13*x[5] >= 60,  name='Constraint_1')  # 约束1\n",
    "cons[1] = model.addConstr(35*x[0] + 42*x[1] + 18*x[2] + 31 *\n",
    "                          x[3] + 56*x[4] + 49*x[5] >= 150, name='Constraint_2')  # 约束2\n",
    "cons[2] = model.addConstr(37*x[0] + 53*x[1] + 28*x[2] + 24 *\n",
    "                          x[3] + 29*x[4] + 20*x[5] >= 125, name='Constraint_3')  # 约束3\n",
    "\n",
    "# 步骤5，求解模型\n",
    "model.params.OutputFlag = 0  # 关闭求解日志\n",
    "model.optimize()\n",
    "\n",
    "# 步骤6，输出求解信息\n",
    "print('The objective value is {}'.format(model.ObjVal))\n",
    "for v in model.getVars():\n",
    "    print('{} = {}'.format(v.varName, v.X))\n"
   ]
  },
  {
   "cell_type": "code",
   "execution_count": 45,
   "metadata": {},
   "outputs": [
    {
     "name": "stdout",
     "output_type": "stream",
     "text": [
      "Gurobi Optimizer version 9.5.2 build v9.5.2rc0 (win64)\n",
      "Thread count: 8 physical cores, 16 logical processors, using up to 16 threads\n",
      "Optimize a model with 3 rows, 6 columns and 18 nonzeros\n",
      "Model fingerprint: 0x3ead4e64\n",
      "Coefficient statistics:\n",
      "  Matrix range     [9e+00, 6e+01]\n",
      "  Objective range  [6e+00, 1e+01]\n",
      "  Bounds range     [1e+00, 1e+00]\n",
      "  RHS range        [6e+01, 2e+02]\n",
      "Presolve time: 0.00s\n",
      "Presolved: 3 rows, 6 columns, 18 nonzeros\n",
      "\n",
      "Iteration    Objective       Primal Inf.    Dual Inf.      Time\n",
      "       0    0.0000000e+00   4.187500e+01   0.000000e+00      0s\n",
      "       4    3.2154631e+01   0.000000e+00   0.000000e+00      0s\n",
      "\n",
      "Solved in 4 iterations and 0.01 seconds (0.00 work units)\n",
      "Optimal objective  3.215463133e+01\n",
      "The objective value is 32.154631330359486\n",
      "x_0 = 1.0\n",
      "x_1 = 0.6226974547362896\n",
      "x_2 = 0.34347940173182906\n",
      "x_3 = 1.0\n",
      "x_4 = 0.04757281553398046\n",
      "x_5 = 1.0\n"
     ]
    }
   ],
   "source": [
    "relaxed_model = model.relax()\n",
    "relaxed_model.optimize()\n",
    "\n",
    "# 输出求解信息\n",
    "print('The objective value is {}'.format(relaxed_model.ObjVal))\n",
    "for v in relaxed_model.getVars():\n",
    "    print('{} = {}'.format(v.varName, v.X))"
   ]
  },
  {
   "cell_type": "code",
   "execution_count": 55,
   "metadata": {},
   "outputs": [
    {
     "name": "stdout",
     "output_type": "stream",
     "text": [
      "Gurobi Optimizer version 9.5.2 build v9.5.2rc0 (win64)\n",
      "Thread count: 8 physical cores, 16 logical processors, using up to 16 threads\n",
      "Optimize a model with 3 rows, 6 columns and 18 nonzeros\n",
      "Model fingerprint: 0xb854bd5d\n",
      "Coefficient statistics:\n",
      "  Matrix range     [9e+00, 6e+01]\n",
      "  Objective range  [6e+00, 1e+01]\n",
      "  Bounds range     [1e+00, 1e+00]\n",
      "  RHS range        [6e+01, 2e+02]\n",
      "Presolve removed 1 rows and 4 columns\n",
      "Presolve time: 0.01s\n",
      "Presolved: 2 rows, 2 columns, 4 nonzeros\n",
      "\n",
      "Iteration    Objective       Primal Inf.    Dual Inf.      Time\n",
      "       0    3.4047619e+01   0.000000e+00   0.000000e+00      0s\n",
      "       0    3.4047619e+01   0.000000e+00   0.000000e+00      0s\n",
      "\n",
      "Solved in 0 iterations and 0.01 seconds (0.00 work units)\n",
      "Optimal objective  3.404761905e+01\n",
      "The objective value is 34.04761904761905\n",
      "x_0 = 1.0\n",
      "x_1 = 0.40476190476190477\n",
      "x_2 = 1.0\n",
      "x_3 = 1.0\n",
      "x_4 = -0.0\n",
      "x_5 = 1.0\n"
     ]
    }
   ],
   "source": [
    "fixed_model = model.fixed()\n",
    "fixed_model.optimize()\n",
    "\n",
    "# 输出求解信息\n",
    "print('The objective value is {}'.format(fixed_model.ObjVal))\n",
    "for v in fixed_model.getVars():\n",
    "    print('{} = {}'.format(v.varName, v.X))"
   ]
  }
 ],
 "metadata": {
  "kernelspec": {
   "display_name": "Python 3.10.6 ('osmnx')",
   "language": "python",
   "name": "python3"
  },
  "language_info": {
   "codemirror_mode": {
    "name": "ipython",
    "version": 3
   },
   "file_extension": ".py",
   "mimetype": "text/x-python",
   "name": "python",
   "nbconvert_exporter": "python",
   "pygments_lexer": "ipython3",
   "version": "3.10.6"
  },
  "orig_nbformat": 4,
  "vscode": {
   "interpreter": {
    "hash": "b144d0c3fc360fc6ad603886c86aee4c155322223366cbd5a9c8347ee17bc42a"
   }
  }
 },
 "nbformat": 4,
 "nbformat_minor": 2
}
