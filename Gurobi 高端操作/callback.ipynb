{
 "cells": [
  {
   "cell_type": "code",
   "execution_count": 1,
   "metadata": {},
   "outputs": [],
   "source": [
    "from gurobipy import *\n",
    "import matplotlib.pyplot as plt"
   ]
  },
  {
   "cell_type": "code",
   "execution_count": 2,
   "metadata": {},
   "outputs": [
    {
     "name": "stdout",
     "output_type": "stream",
     "text": [
      "Read MPS format model from file VRPTW_r102_20_5.mps\n",
      "Reading time = 0.01 seconds\n",
      "VRPTW: 1797 rows, 1525 columns, 14416 nonzeros\n",
      "Gurobi Optimizer version 9.5.2 build v9.5.2rc0 (win64)\n",
      "Thread count: 8 physical cores, 16 logical processors, using up to 16 threads\n",
      "Optimize a model with 1797 rows, 1525 columns and 14416 nonzeros\n",
      "Model fingerprint: 0xec13157a\n",
      "Variable types: 110 continuous, 1415 integer (1415 binary)\n",
      "Coefficient statistics:\n",
      "  Matrix range     [1e+00, 3e+02]\n",
      "  Objective range  [7e+00, 6e+01]\n",
      "  Bounds range     [1e+00, 2e+02]\n",
      "  RHS range        [1e+00, 3e+02]\n",
      "Presolve removed 614 rows and 6 columns\n",
      "Presolve time: 0.05s\n",
      "Presolved: 1183 rows, 1519 columns, 16789 nonzeros\n",
      "Variable types: 100 continuous, 1419 integer (1415 binary)\n",
      "\n",
      "Root relaxation: objective 2.871000e+02, 360 iterations, 0.02 seconds (0.01 work units)\n",
      "\n",
      "    Nodes    |    Current Node    |     Objective Bounds      |     Work\n",
      " Expl Unexpl |  Obj  Depth IntInf | Incumbent    BestBd   Gap | It/Node Time\n",
      "\n",
      "     0     0  287.10000    0   42          -  287.10000      -     -    0s\n",
      "     0     0  287.10000    0   50          -  287.10000      -     -    0s\n",
      "     0     0  287.10000    0   54          -  287.10000      -     -    0s\n",
      "     0     0  320.90000    0   47          -  320.90000      -     -    0s\n",
      "     0     0  320.90000    0   43          -  320.90000      -     -    0s\n",
      "     0     0  324.96473    0  113          -  324.96473      -     -    0s\n",
      "     0     0  325.65634    0   93          -  325.65634      -     -    0s\n",
      "     0     0  326.28095    0   92          -  326.28095      -     -    0s\n",
      "     0     0  326.28095    0   92          -  326.28095      -     -    0s\n",
      "     0     0  335.75703    0   75          -  335.75703      -     -    0s\n",
      "     0     0  335.75703    0   80          -  335.75703      -     -    0s\n",
      "     0     0  339.98813    0  113          -  339.98813      -     -    0s\n",
      "     0     0  341.17667    0  106          -  341.17667      -     -    0s\n",
      "     0     0  353.90000    0   77          -  353.90000      -     -    0s\n",
      "     0     0  356.76088    0  128          -  356.76088      -     -    0s\n",
      "     0     0  356.76088    0  129          -  356.76088      -     -    0s\n",
      "     0     0  357.19003    0  125          -  357.19003      -     -    0s\n",
      "     0     0  357.20126    0  125          -  357.20126      -     -    0s\n",
      "     0     0  357.20163    0  124          -  357.20163      -     -    0s\n",
      "     0     0  357.20176    0  129          -  357.20176      -     -    0s\n",
      "     0     0  357.20176    0  122          -  357.20176      -     -    0s\n",
      "     0     2  357.20208    0  122          -  357.20208      -     -    1s\n",
      "* 1374  1229              76     536.1000000  359.73478  32.9%  48.7    1s\n",
      "H 1448  1229                     532.9000000  359.73478  32.5%  48.3    1s\n",
      "H 1450  1169                     523.6000000  359.73478  31.3%  48.2    2s\n",
      "H 1467  1121                     510.7000000  359.73478  29.6%  47.7    3s\n",
      "H 1467  1064                     484.2000000  359.73478  25.7%  47.7    3s\n",
      "  1482  1074  414.11705   54   94  484.20000  361.94266  25.2%  47.2    5s\n",
      "H 1512  1053                     478.2000000  361.94266  24.3%  50.3    6s\n",
      "H 1522   998                     465.0000000  361.94266  22.2%  50.2    6s\n",
      "H 1560   983                     449.8000000  361.94266  19.5%  50.3    7s\n",
      "H 1562   936                     431.5000000  361.94266  16.1%  50.5    7s\n",
      "* 2371  1052              52     427.1000000  362.20524  15.2%  46.0    8s\n",
      "  3978  1290  413.56580   74   66  427.10000  362.72188  15.1%  41.5   10s\n",
      "* 6519  2345              61     422.3000000  365.93579  13.3%  42.0   11s\n",
      "* 7455  2252              50     419.0000000  382.44096  8.73%  41.7   12s\n",
      "* 7467  1320              60     409.7000000  382.44096  6.65%  41.7   12s\n",
      "\n",
      "Cutting planes:\n",
      "  Gomory: 12\n",
      "  Cover: 22\n",
      "  Implied bound: 18\n",
      "  Projected implied bound: 1\n",
      "  Clique: 5\n",
      "  MIR: 17\n",
      "  StrongCG: 15\n",
      "  Flow cover: 37\n",
      "  Zero half: 5\n",
      "  Mod-K: 1\n",
      "  RLT: 96\n",
      "  Relax-and-lift: 9\n",
      "\n",
      "Explored 10280 nodes (412703 simplex iterations) in 13.67 seconds (12.81 work units)\n",
      "Thread count was 16 (of 16 available processors)\n",
      "\n",
      "Solution count 10: 409.7 419 422.3 ... 510.7\n",
      "\n",
      "Optimal solution found (tolerance 1.00e-04)\n",
      "Best objective 4.097000000000e+02, best bound 4.097000000000e+02, gap 0.0000%\n",
      "\n",
      "User-callback calls 23237, time in user-callback 0.08 sec\n"
     ]
    }
   ],
   "source": [
    "model = read(\"VRPTW_r102_20_5.mps\")\n",
    "\n",
    "bstList = []\n",
    "bndList = []\n",
    "gapList = []\n",
    "\n",
    "def mycallback(model, where):\n",
    "    if(where == GRB.Callback.MIPSOL):\n",
    "        bst = model.cbGet(GRB.Callback.MIPSOL_OBJBST)\n",
    "        bnd = model.cbGet(GRB.Callback.MIPSOL_OBJBND)\n",
    "        gap = abs(bst-bnd)/bst\n",
    "        bstList.append(bst)\n",
    "        bndList.append(bnd)\n",
    "        gapList.append(gap)\n",
    "\n",
    "model.optimize(mycallback)"
   ]
  },
  {
   "cell_type": "code",
   "execution_count": 3,
   "metadata": {},
   "outputs": [
    {
     "name": "stdout",
     "output_type": "stream",
     "text": [
      "当前最好解是536.10，当前界是359.80，gap是0.33\n",
      "当前最好解是532.90，当前界是359.80，gap是0.32\n",
      "当前最好解是523.60，当前界是359.80，gap是0.31\n",
      "当前最好解是510.70，当前界是359.80，gap是0.30\n",
      "当前最好解是484.20，当前界是359.80，gap是0.26\n",
      "当前最好解是478.20，当前界是362.00，gap是0.24\n",
      "当前最好解是465.00，当前界是362.00，gap是0.22\n",
      "当前最好解是449.80，当前界是362.00，gap是0.20\n",
      "当前最好解是431.50，当前界是362.00，gap是0.16\n",
      "当前最好解是427.10，当前界是362.30，gap是0.15\n",
      "当前最好解是422.30，当前界是366.00，gap是0.13\n",
      "当前最好解是419.00，当前界是382.50，gap是0.09\n",
      "当前最好解是409.70，当前界是382.50，gap是0.07\n"
     ]
    },
    {
     "data": {
      "text/plain": [
       "[<matplotlib.lines.Line2D at 0x1a8c4c34ca0>]"
      ]
     },
     "execution_count": 3,
     "metadata": {},
     "output_type": "execute_result"
    },
    {
     "data": {
      "image/png": "[encoded data removed]",
      "text/plain": [
       "<Figure size 500x200 with 1 Axes>"
      ]
     },
     "metadata": {},
     "output_type": "display_data"
    }
   ],
   "source": [
    "for i in range(len(gapList)):\n",
    "    print('当前最好解是{:.2f}，当前界是{:.2f}，gap是{:.2f}'.format(bstList[i], bndList[i], gapList[i]))\n",
    "\n",
    "plt.figure( figsize=(5,2))\n",
    "plt.plot(gapList)"
   ]
  }
 ],
 "metadata": {
  "kernelspec": {
   "display_name": "Python 3 (ipykernel)",
   "language": "python",
   "name": "python3"
  },
  "language_info": {
   "codemirror_mode": {
    "name": "ipython",
    "version": 3
   },
   "file_extension": ".py",
   "mimetype": "text/x-python",
   "name": "python",
   "nbconvert_exporter": "python",
   "pygments_lexer": "ipython3",
   "version": "3.10.6"
  },
  "vscode": {
   "interpreter": {
    "hash": "b144d0c3fc360fc6ad603886c86aee4c155322223366cbd5a9c8347ee17bc42a"
   }
  }
 },
 "nbformat": 4,
 "nbformat_minor": 2
}
