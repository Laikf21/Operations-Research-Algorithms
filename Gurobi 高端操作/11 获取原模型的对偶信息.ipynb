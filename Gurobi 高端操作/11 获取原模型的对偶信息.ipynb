{
 "cells": [
  {
   "cell_type": "markdown",
   "metadata": {},
   "source": [
    "### 当模型可行时，获取对偶变量Pi"
   ]
  },
  {
   "cell_type": "code",
   "execution_count": null,
   "metadata": {},
   "outputs": [],
   "source": [
    "model = read(input.mps)        # 建模过程省略\n",
    "model.optimize()               # 求解模型\n",
    "print(model.status)            # 确认解的状态代码是否为2，即OPTIMAL\n",
    "\n",
    "#获取对偶变量\n",
    "for constr in model.getConstrs():\n",
    "    print(constr.constrName, '=', constr.Pi)"
   ]
  },
  {
   "cell_type": "markdown",
   "metadata": {},
   "source": [
    "### 当模型无界时，获取极射线 UnbdRay"
   ]
  },
  {
   "cell_type": "code",
   "execution_count": null,
   "metadata": {},
   "outputs": [],
   "source": [
    "model = read(input.mps)              # 建模过程省略\n",
    "\n",
    "model.setParam('InfUnbdInfo', 1)     # 打开模型的无界或无解信息开关\n",
    "model.setParam('DualReductions', 0)  # 关闭预处理中的 dual reduction\n",
    "\n",
    "model.optimize()                     # 求解模型\n",
    "print(model.status)                  # 确认解的状态代码是否为3，即INFEASIBLE\n",
    "\n",
    "# 获取FarkasDual\n",
    "for constr in model.getConstrs():\n",
    "    print(constr.constrName, '=', constr.FarkasDual)\n",
    "    \n",
    "# 获取FarkasProof\n",
    "model.FarkasProof"
   ]
  },
  {
   "cell_type": "markdown",
   "metadata": {},
   "source": [
    "### 当模型不可行时，获取 FarkasDual 与 FarkasProof"
   ]
  },
  {
   "cell_type": "code",
   "execution_count": null,
   "metadata": {},
   "outputs": [],
   "source": [
    "model = read(input.mps)              # 建模过程省略\n",
    "\n",
    "model.setParam('InfUnbdInfo', 1)     # 打开模型的无界或无解信息开关\n",
    "model.setParam('DualReductions', 0)  # 关闭预处理中的 dual reduction\n",
    "\n",
    "model.optimize()                     # 求解模型\n",
    "print(model.status)                  # 确认解的状态代码是否为3，即INFEASIBLE\n",
    "\n",
    "# 获取FarkasDual\n",
    "for constr in model.getConstrs():\n",
    "    print(constr.constrName, '=', constr.FarkasDual)\n",
    "    \n",
    "# 获取FarkasProof\n",
    "model.FarkasProof"
   ]
  }
 ],
 "metadata": {
  "kernelspec": {
   "display_name": "Python 3.10.6 ('osmnx')",
   "language": "python",
   "name": "python3"
  },
  "language_info": {
   "name": "python",
   "version": "3.10.6"
  },
  "orig_nbformat": 4,
  "vscode": {
   "interpreter": {
    "hash": "b144d0c3fc360fc6ad603886c86aee4c155322223366cbd5a9c8347ee17bc42a"
   }
  }
 },
 "nbformat": 4,
 "nbformat_minor": 2
}
