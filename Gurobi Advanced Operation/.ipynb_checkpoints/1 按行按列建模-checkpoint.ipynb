{
 "cells": [
  {
   "cell_type": "code",
   "execution_count": 3,
   "id": "3e66d254",
   "metadata": {},
   "outputs": [
    {
     "name": "stdout",
     "output_type": "stream",
     "text": [
      "Gurobi Optimizer version 9.5.2 build v9.5.2rc0 (win64)\n",
      "Thread count: 8 physical cores, 16 logical processors, using up to 16 threads\n",
      "Optimize a model with 3 rows, 2 columns and 4 nonzeros\n",
      "Model fingerprint: 0xc030cf3a\n",
      "Coefficient statistics:\n",
      "  Matrix range     [1e+00, 3e+00]\n",
      "  Objective range  [3e+00, 5e+00]\n",
      "  Bounds range     [0e+00, 0e+00]\n",
      "  RHS range        [4e+00, 2e+01]\n",
      "Presolve removed 2 rows and 0 columns\n",
      "Presolve time: 0.00s\n",
      "Presolved: 1 rows, 2 columns, 2 nonzeros\n",
      "\n",
      "Iteration    Objective       Primal Inf.    Dual Inf.      Time\n",
      "       0    4.5000000e+01   1.500000e+00   0.000000e+00      0s\n",
      "       1    3.6000000e+01   0.000000e+00   0.000000e+00      0s\n",
      "\n",
      "Solved in 1 iterations and 0.00 seconds (0.00 work units)\n",
      "Optimal objective  3.600000000e+01\n",
      "The objective value is 36.0\n",
      "x_1 = 2.0\n",
      "x_2 = 6.0\n"
     ]
    }
   ],
   "source": [
    "from gurobipy import *\n",
    "\n",
    "varNum = 2    #决策变量个数\n",
    "consNum = 3    #模型约束个数\n",
    "\n",
    "# 步骤1，创建模型对象\n",
    "model = Model('Wyndor Problem')\n",
    "\n",
    "# 步骤2，创建决策变量\n",
    "x = [[] for i in range(varNum)]\n",
    "x[0] = model.addVar(lb=0, ub=GRB.INFINITY, vtype = GRB.CONTINUOUS, name = 'x_1')  # 决策变量x_1\n",
    "x[1] = model.addVar(lb=0, ub=GRB.INFINITY, vtype = GRB.CONTINUOUS, name = 'x_2')  # 决策变量x_2\n",
    "\n",
    "# 步骤3，创建目标函数\n",
    "model.setObjective( 3 * x[0] + 5 * x[1], sense = GRB.MAXIMIZE )\n",
    "\n",
    "# 步骤4，创建模型约束\n",
    "cons = [[] for i in range(consNum)]\n",
    "cons[0] = model.addConstr( x[0] <= 4, name = 'Constraint_1' )           # 约束1\n",
    "cons[1] = model.addConstr( 2 * x[1] <= 12, name = 'Constraint_2' )        # 约束2\n",
    "cons[2] = model.addConstr( 3 * x[0] + 2 * x[1] <= 18, name = 'Constraint_3' ) # 约束3\n",
    "\n",
    "# 步骤5，求解模型\n",
    "model.write('Wyndor.lp')  # 创建模型文件\n",
    "model.optimize()\n",
    "\n",
    "# 步骤6，输出求解信息\n",
    "print('The objective value is {}'.format(model.ObjVal) )\n",
    "for v in model.getVars():\n",
    "    print('{} = {}'.format(v.varName, v.X))"
   ]
  },
  {
   "cell_type": "code",
   "execution_count": 2,
   "id": "7d19e4ad",
   "metadata": {},
   "outputs": [
    {
     "name": "stdout",
     "output_type": "stream",
     "text": [
      "Gurobi Optimizer version 9.5.2 build v9.5.2rc0 (win64)\n",
      "Thread count: 8 physical cores, 16 logical processors, using up to 16 threads\n",
      "Optimize a model with 3 rows, 2 columns and 4 nonzeros\n",
      "Model fingerprint: 0xc030cf3a\n",
      "Coefficient statistics:\n",
      "  Matrix range     [1e+00, 3e+00]\n",
      "  Objective range  [3e+00, 5e+00]\n",
      "  Bounds range     [0e+00, 0e+00]\n",
      "  RHS range        [4e+00, 2e+01]\n",
      "Presolve removed 2 rows and 0 columns\n",
      "Presolve time: 0.00s\n",
      "Presolved: 1 rows, 2 columns, 2 nonzeros\n",
      "\n",
      "Iteration    Objective       Primal Inf.    Dual Inf.      Time\n",
      "       0    4.5000000e+01   1.500000e+00   0.000000e+00      0s\n",
      "       1    3.6000000e+01   0.000000e+00   0.000000e+00      0s\n",
      "\n",
      "Solved in 1 iterations and 0.00 seconds (0.00 work units)\n",
      "Optimal objective  3.600000000e+01\n",
      "The objective value is 36.0\n",
      "x_1 = 2.0\n",
      "x_2 = 6.0\n"
     ]
    }
   ],
   "source": [
    "from gurobipy import *\n",
    "\n",
    "varNum = 2    #决策变量个数\n",
    "consNum = 3    #模型约束个数\n",
    "\n",
    "# 步骤1，创建模型对象\n",
    "model = Model('Wyndor Problem')\n",
    "\n",
    "# 步骤2，创建决策变量\n",
    "x = [[] for i in range(varNum)]\n",
    "x[0] = model.addVar(lb=0, ub=GRB.INFINITY, vtype = GRB.CONTINUOUS, name = 'x_1')\n",
    "x[1] = model.addVar(lb=0, ub=GRB.INFINITY, vtype = GRB.CONTINUOUS, name = 'x_2')\n",
    "\n",
    "# 步骤3，创建目标函数\n",
    "coef = [3, 5]                      # 目标函数系数\n",
    "model.setObjective( quicksum( coef[j] * x[j] for j in range(2)), sense = GRB.MAXIMIZE )  # 使用quicksum快速拼接\n",
    "\n",
    "# 步骤4，创建模型约束\n",
    "A = [[1, 0],                      # 约束系数矩阵\n",
    "    [0, 2],\n",
    "    [3, 2]]\n",
    "rhs = [4, 12, 18]                  # 右端项\n",
    "\n",
    "expr = LinExpr()                   # 建立线性表达式对象\n",
    "cons = [[] for i in range(consNum)]\n",
    "for i in range(consNum):\n",
    "    for j in range(varNum):\n",
    "        expr.addTerms( A[i][j] * x[j] ) # 使用LinExpr.addTerms循环语句拼接表达式\n",
    "    model.addConstr( expr <= rhs[i] )\n",
    "\n",
    "# 步骤5，求解模型\n",
    "model.write('Wyndor.lp')\n",
    "model.optimize()\n",
    "\n",
    "# 步骤6，输出求解信息\n",
    "print( 'The objective value is {}'.format(model.ObjVal) )\n",
    "for v in model.getVars():\n",
    "    print('{} = {}'.format(v.varName, v.X))"
   ]
  }
 ],
 "metadata": {
  "kernelspec": {
   "display_name": "Python 3",
   "language": "python",
   "name": "python3"
  },
  "language_info": {
   "codemirror_mode": {
    "name": "ipython",
    "version": 3
   },
   "file_extension": ".py",
   "mimetype": "text/x-python",
   "name": "python",
   "nbconvert_exporter": "python",
   "pygments_lexer": "ipython3",
   "version": "3.8.8"
  }
 },
 "nbformat": 4,
 "nbformat_minor": 5
}
