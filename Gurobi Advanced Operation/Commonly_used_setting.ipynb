{
 "cells": [
  {
   "cell_type": "code",
   "execution_count": 7,
   "id": "3e66d254",
   "metadata": {},
   "outputs": [
    {
     "name": "stdout",
     "output_type": "stream",
     "text": [
      "Read MPS format model from file VRPTW_r102_20_5.mps\n",
      "Reading time = 0.01 seconds\n",
      "VRPTW: 1797 rows, 1525 columns, 14416 nonzeros\n"
     ]
    }
   ],
   "source": [
    "from gurobipy import *\n",
    "model = read(\"VRPTW_r102_20_5.mps\")"
   ]
  },
  {
   "cell_type": "code",
   "execution_count": 8,
   "id": "228776f4",
   "metadata": {},
   "outputs": [
    {
     "name": "stdout",
     "output_type": "stream",
     "text": [
      "Set parameter TimeLimit to value 4\n",
      "Gurobi Optimizer version 9.5.2 build v9.5.2rc0 (win64)\n",
      "Thread count: 8 physical cores, 16 logical processors, using up to 16 threads\n",
      "Optimize a model with 1797 rows, 1525 columns and 14416 nonzeros\n",
      "Model fingerprint: 0xec13157a\n",
      "Variable types: 110 continuous, 1415 integer (1415 binary)\n",
      "Coefficient statistics:\n",
      "  Matrix range     [1e+00, 3e+02]\n",
      "  Objective range  [7e+00, 6e+01]\n",
      "  Bounds range     [1e+00, 2e+02]\n",
      "  RHS range        [1e+00, 3e+02]\n",
      "Presolve removed 614 rows and 6 columns\n",
      "Presolve time: 0.03s\n",
      "Presolved: 1183 rows, 1519 columns, 16789 nonzeros\n",
      "Variable types: 100 continuous, 1419 integer (1415 binary)\n",
      "\n",
      "Root relaxation: objective 2.871000e+02, 360 iterations, 0.01 seconds (0.01 work units)\n",
      "\n",
      "    Nodes    |    Current Node    |     Objective Bounds      |     Work\n",
      " Expl Unexpl |  Obj  Depth IntInf | Incumbent    BestBd   Gap | It/Node Time\n",
      "\n",
      "     0     0  287.10000    0   42          -  287.10000      -     -    0s\n",
      "     0     0  287.10000    0   50          -  287.10000      -     -    0s\n",
      "     0     0  287.10000    0   54          -  287.10000      -     -    0s\n",
      "     0     0  320.90000    0   47          -  320.90000      -     -    0s\n",
      "     0     0  320.90000    0   43          -  320.90000      -     -    0s\n",
      "     0     0  324.96473    0  113          -  324.96473      -     -    0s\n",
      "     0     0  325.65634    0   93          -  325.65634      -     -    0s\n",
      "     0     0  326.28095    0   92          -  326.28095      -     -    0s\n",
      "     0     0  326.28095    0   92          -  326.28095      -     -    0s\n",
      "     0     0  335.75703    0   75          -  335.75703      -     -    0s\n",
      "     0     0  335.75703    0   80          -  335.75703      -     -    0s\n",
      "     0     0  339.98813    0  113          -  339.98813      -     -    0s\n",
      "     0     0  341.17667    0  106          -  341.17667      -     -    0s\n",
      "     0     0  353.90000    0   77          -  353.90000      -     -    0s\n",
      "     0     0  356.76088    0  128          -  356.76088      -     -    0s\n",
      "     0     0  356.76088    0  129          -  356.76088      -     -    0s\n",
      "     0     0  357.19003    0  125          -  357.19003      -     -    0s\n",
      "     0     0  357.20126    0  125          -  357.20126      -     -    0s\n",
      "     0     0  357.20163    0  124          -  357.20163      -     -    0s\n",
      "     0     0  357.20176    0  129          -  357.20176      -     -    0s\n",
      "     0     0  357.20176    0  122          -  357.20176      -     -    0s\n",
      "     0     2  357.20208    0  122          -  357.20208      -     -    0s\n",
      "* 1374  1229              76     536.1000000  359.73478  32.9%  48.7    1s\n",
      "H 1448  1229                     532.9000000  359.73478  32.5%  48.3    1s\n",
      "H 1450  1169                     523.6000000  359.73478  31.3%  48.2    1s\n",
      "H 1467  1121                     510.7000000  359.73478  29.6%  47.7    2s\n",
      "H 1467  1064                     484.2000000  359.73478  25.7%  47.7    2s\n",
      "\n",
      "Cutting planes:\n",
      "  Gomory: 8\n",
      "  Implied bound: 10\n",
      "  Projected implied bound: 1\n",
      "  Clique: 5\n",
      "  MIR: 8\n",
      "  StrongCG: 5\n",
      "  Flow cover: 19\n",
      "  Zero half: 4\n",
      "  Mod-K: 1\n",
      "  RLT: 82\n",
      "  Relax-and-lift: 8\n",
      "\n",
      "Explored 1489 nodes (77186 simplex iterations) in 4.02 seconds (5.96 work units)\n",
      "Thread count was 16 (of 16 available processors)\n",
      "\n",
      "Solution count 5: 484.2 510.7 523.6 ... 536.1\n",
      "\n",
      "Time limit reached\n",
      "Best objective 4.842000000000e+02, best bound 3.620000000000e+02, gap 25.2375%\n"
     ]
    }
   ],
   "source": [
    "model.Params.TimeLimit = 4\n",
    "model.optimize()"
   ]
  },
  {
   "cell_type": "code",
   "execution_count": 9,
   "id": "aad212ba",
   "metadata": {},
   "outputs": [
    {
     "data": {
      "text/plain": [
       "4.019733428955078"
      ]
     },
     "execution_count": 9,
     "metadata": {},
     "output_type": "execute_result"
    }
   ],
   "source": [
    "model.getAttr('runTime')"
   ]
  }
 ],
 "metadata": {
  "kernelspec": {
   "display_name": "Python 3",
   "language": "python",
   "name": "python3"
  },
  "language_info": {
   "codemirror_mode": {
    "name": "ipython",
    "version": 3
   },
   "file_extension": ".py",
   "mimetype": "text/x-python",
   "name": "python",
   "nbconvert_exporter": "python",
   "pygments_lexer": "ipython3",
   "version": "3.8.8"
  }
 },
 "nbformat": 4,
 "nbformat_minor": 5
}
